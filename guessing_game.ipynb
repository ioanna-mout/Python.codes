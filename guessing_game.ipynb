{
 "cells": [
  {
   "cell_type": "code",
   "execution_count": 2,
   "metadata": {
    "scrolled": false
   },
   "outputs": [
    {
     "name": "stdout",
     "output_type": "stream",
     "text": [
      "Here are the rules of the game, are you ready?\n",
      "Guess a number..\n",
      "If your guess is less than 1 or greater than 100, than you will be \"OUT OF BOUNDS\"\n",
      "If your guess is within 10 of the number, you will see the return \"WARM!\", but if your guss is further than 10 away from the number, you will see the return \"COLD!\"\n",
      "If your guss is closer to the number than your previous guess you will get \"WARMER!\", but if it is farther from the number than your previous guess, it would be \"COLDER!\"\n",
      "Lets play!\n",
      "I'm thinking of a number between 1 and 100.\n",
      "  What is your guess? 10\n",
      "I'm thinking of a number between 1 and 100.\n",
      "  What is your guess? 20\n",
      "COLD!\n",
      "I'm thinking of a number between 1 and 100.\n",
      "  What is your guess? 50\n",
      "WARMER!\n",
      "I'm thinking of a number between 1 and 100.\n",
      "  What is your guess? 55\n",
      "COLDER!\n",
      "I'm thinking of a number between 1 and 100.\n",
      "  What is your guess? 45\n",
      "WARMER!\n",
      "I'm thinking of a number between 1 and 100.\n",
      "  What is your guess? 46\n",
      "COLDER!\n",
      "I'm thinking of a number between 1 and 100.\n",
      "  What is your guess? 44\n",
      "WARMER!\n",
      "I'm thinking of a number between 1 and 100.\n",
      "  What is your guess? 41\n",
      "WARMER!\n",
      "I'm thinking of a number between 1 and 100.\n",
      "  What is your guess? 40\n",
      "COLDER!\n",
      "I'm thinking of a number between 1 and 100.\n",
      "  What is your guess? 42\n",
      "CONGRATULATIONS, YOU GUESSED IT IN ONLY 9 GUESSES!!\n"
     ]
    }
   ],
   "source": [
    "import random\n",
    "\n",
    "num = random.randint(1,100)\n",
    "\n",
    "print('Here are the rules of the game, are you ready?')\n",
    "print('Guess a number..')\n",
    "print('If your guess is less than 1 or greater than 100, than you will be \"OUT OF BOUNDS\"')\n",
    "print('If your guess is within 10 of the number, you will see the return \"WARM!\", but if your guss is further than 10 away from the number, you will see the return \"COLD!\"')\n",
    "print('If your guss is closer to the number than your previous guess you will get \"WARMER!\", but if it is farther from the number than your previous guess, it would be \"COLDER!\"')\n",
    "print('Lets play!')\n",
    "\n",
    "guesses = [0]\n",
    "\n",
    "while True:\n",
    "    \n",
    "    guess = int(input(\"I'm thinking of a number between 1 and 100.\\n  What is your guess? \"))\n",
    "    \n",
    "    if guess < 1 or guess > 100:\n",
    "        print('OUT OF BOUNDS! Please try again: ')\n",
    "        continue\n",
    "        \n",
    "    break\n",
    "    \n",
    "while True:\n",
    "\n",
    "   
    "    guess = int(input(\"I'm thinking of a number between 1 and 100.\\n  What is your guess? \"))\n",
    "    \n",
    "    if guess < 1 or guess > 100:\n",
    "        print('OUT OF BOUNDS! Please try again: ')\n",
    "        continue\n",
    "    \n",
    "    # here we compare the player's guess to our number\n",
    "    if guess == num:\n",
    "        print(f'CONGRATULATIONS, YOU GUESSED IT IN ONLY {len(guesses)} GUESSES!!')\n",
    "        break\n",
    "        \n",
    "    # if guess is incorrect, add guess to the list\n",
    "    guesses.append(guess)\n",
    "    \n",
    "    # when testing the first guess, guesses[-2]==0, which evaluates to False\n",
    "    # and brings us down to the second section\n",
    "    \n",
    "    if guesses[-2]:  \n",
    "        if abs(num-guess) < abs(num-guesses[-2]):\n",
    "            print('WARMER!')\n",
    "        else:\n",
    "            print('COLDER!')\n",
    "   \n",
    "    else:\n",
    "        if abs(num-guess) <= 10:\n",
    "            print('WARM!')\n",
    "        else:\n",
    "            print('COLD!')"
   ]
  },
  {
   "cell_type": "code",
   "execution_count": null,
   "metadata": {},
   "outputs": [],
   "source": []
  },
  {
   "cell_type": "code",
   "execution_count": null,
   "metadata": {},
   "outputs": [],
   "source": []
  }
 ],
 "metadata": {
  "kernelspec": {
   "display_name": "Python 3",
   "language": "python",
   "name": "python3"
  },
  "language_info": {
   "codemirror_mode": {
    "name": "ipython",
    "version": 3
   },
   "file_extension": ".py",
   "mimetype": "text/x-python",
   "name": "python",
   "nbconvert_exporter": "python",
   "pygments_lexer": "ipython3",
   "version": "3.7.3"
  }
 },
 "nbformat": 4,
 "nbformat_minor": 2
}
